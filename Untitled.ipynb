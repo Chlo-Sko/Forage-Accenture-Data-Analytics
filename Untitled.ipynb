{
 "cells": [
  {
   "cell_type": "markdown",
   "id": "cf990b9a",
   "metadata": {},
   "source": [
    "# Accenture Data Analytics"
   ]
  },
  {
   "cell_type": "markdown",
   "id": "b66ac8af",
   "metadata": {},
   "source": [
    "## Date Started: November 7, 2022"
   ]
  },
  {
   "cell_type": "code",
   "execution_count": 1,
   "id": "1625ae73",
   "metadata": {},
   "outputs": [],
   "source": [
    "# Imports\n",
    "\n",
    "# User Interface\n",
    "from ipywidgets import widgets  \n",
    "from __future__ import print_function\n",
    "from IPython.display import display, clear_output\n",
    "from IPython.display import Markdown as md\n",
    "\n",
    "# Data Visual Themes\n",
    "import seaborn as sns\n",
    "sns.set_theme(palette=\"flare\")\n",
    "\n",
    "# Utility Libraries\n",
    "import numpy as np\n",
    "import pandas as pd\n",
    "import matplotlib.pyplot as plt\n",
    "%matplotlib inline\n",
    "\n",
    "# Data Exploration\n",
    "from sklearn.feature_selection import mutual_info_regression\n",
    "from scipy import stats\n",
    "\n",
    "# Model Building\n",
    "from sklearn.model_selection import train_test_split\n",
    "from sklearn.ensemble import RandomForestRegressor\n",
    "\n",
    "# Model Scoring\n",
    "from sklearn.metrics import mean_absolute_error, r2_score\n",
    "\n",
    "# Remove Warnings\n",
    "import warnings\n",
    "warnings.filterwarnings('ignore')"
   ]
  },
  {
   "cell_type": "markdown",
   "id": "df82f351",
   "metadata": {},
   "source": [
    "## Importing Datasets"
   ]
  },
  {
   "cell_type": "code",
   "execution_count": 2,
   "id": "e92f205b",
   "metadata": {},
   "outputs": [
    {
     "name": "stdout",
     "output_type": "stream",
     "text": [
      "<class 'pandas.core.frame.DataFrame'>\n",
      "RangeIndex: 1000 entries, 0 to 999\n",
      "Data columns (total 6 columns):\n",
      " #   Column      Non-Null Count  Dtype \n",
      "---  ------      --------------  ----- \n",
      " 0   Unnamed: 0  1000 non-null   int64 \n",
      " 1   Content ID  1000 non-null   object\n",
      " 2   User ID     1000 non-null   object\n",
      " 3   Type        1000 non-null   object\n",
      " 4   Category    1000 non-null   object\n",
      " 5   URL         801 non-null    object\n",
      "dtypes: int64(1), object(5)\n",
      "memory usage: 47.0+ KB\n"
     ]
    }
   ],
   "source": [
    "# Import Content Data\n",
    "content = pd.read_csv(\"Static/Data/Content.csv\")\n",
    "content.info()"
   ]
  },
  {
   "cell_type": "code",
   "execution_count": 3,
   "id": "cc6feaa5",
   "metadata": {},
   "outputs": [
    {
     "name": "stdout",
     "output_type": "stream",
     "text": [
      "<class 'pandas.core.frame.DataFrame'>\n",
      "RangeIndex: 25553 entries, 0 to 25552\n",
      "Data columns (total 5 columns):\n",
      " #   Column      Non-Null Count  Dtype \n",
      "---  ------      --------------  ----- \n",
      " 0   Unnamed: 0  25553 non-null  int64 \n",
      " 1   Content ID  25553 non-null  object\n",
      " 2   User ID     22534 non-null  object\n",
      " 3   Type        24573 non-null  object\n",
      " 4   Datetime    25553 non-null  object\n",
      "dtypes: int64(1), object(4)\n",
      "memory usage: 998.3+ KB\n"
     ]
    }
   ],
   "source": [
    "# Import Reactions Data\n",
    "reactions = pd.read_csv(\"Static/Data/Reactions.csv\")\n",
    "reactions.info()"
   ]
  },
  {
   "cell_type": "code",
   "execution_count": 4,
   "id": "26131edf",
   "metadata": {},
   "outputs": [
    {
     "name": "stdout",
     "output_type": "stream",
     "text": [
      "<class 'pandas.core.frame.DataFrame'>\n",
      "RangeIndex: 16 entries, 0 to 15\n",
      "Data columns (total 4 columns):\n",
      " #   Column      Non-Null Count  Dtype \n",
      "---  ------      --------------  ----- \n",
      " 0   Unnamed: 0  16 non-null     int64 \n",
      " 1   Type        16 non-null     object\n",
      " 2   Sentiment   16 non-null     object\n",
      " 3   Score       16 non-null     int64 \n",
      "dtypes: int64(2), object(2)\n",
      "memory usage: 640.0+ bytes\n"
     ]
    }
   ],
   "source": [
    "# Import Reaction Types Data\n",
    "reaction_types = pd.read_csv(\"Static/Data/ReactionTypes.csv\")\n",
    "reaction_types.info()"
   ]
  },
  {
   "cell_type": "markdown",
   "id": "7d244d77",
   "metadata": {},
   "source": [
    "## Cleaning Datasets"
   ]
  },
  {
   "cell_type": "code",
   "execution_count": 5,
   "id": "eb1446a3",
   "metadata": {},
   "outputs": [],
   "source": [
    "# Remove Irrelevant Features\n",
    "content = content.drop([\"URL\"], axis = 1);"
   ]
  },
  {
   "cell_type": "code",
   "execution_count": 12,
   "id": "d137578d",
   "metadata": {},
   "outputs": [],
   "source": [
    "# Remove Typos/Duplicates\n",
    "content[\"Category\"] = content[\"Category\"].str.replace('\"', '')"
   ]
  },
  {
   "cell_type": "code",
   "execution_count": 15,
   "id": "0821b55d",
   "metadata": {},
   "outputs": [],
   "source": [
    "# Drop NA\n",
    "content = content.dropna()\n",
    "reactions = reactions.dropna()\n",
    "reaction_types = reaction_types.dropna()"
   ]
  }
 ],
 "metadata": {
  "kernelspec": {
   "display_name": "Python 3 (ipykernel)",
   "language": "python",
   "name": "python3"
  },
  "language_info": {
   "codemirror_mode": {
    "name": "ipython",
    "version": 3
   },
   "file_extension": ".py",
   "mimetype": "text/x-python",
   "name": "python",
   "nbconvert_exporter": "python",
   "pygments_lexer": "ipython3",
   "version": "3.9.12"
  }
 },
 "nbformat": 4,
 "nbformat_minor": 5
}
