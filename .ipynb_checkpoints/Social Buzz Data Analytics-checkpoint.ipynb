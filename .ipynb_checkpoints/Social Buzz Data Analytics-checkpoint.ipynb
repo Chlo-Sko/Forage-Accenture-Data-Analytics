{
 "cells": [
  {
   "cell_type": "markdown",
   "id": "cf990b9a",
   "metadata": {},
   "source": [
    "<H1 span style=\"font-family:Feorgia; font-size:3em; color:#255b52\">Social Buzz Data Analytics</H1>"
   ]
  },
  {
   "cell_type": "markdown",
   "id": "b66ac8af",
   "metadata": {},
   "source": [
    "## Presented by Accenture\n",
    "### Chloe Skorpikova - Data Analyst\n",
    "#### November 7, 2022"
   ]
  },
  {
   "cell_type": "code",
   "execution_count": 1,
   "id": "1625ae73",
   "metadata": {},
   "outputs": [],
   "source": [
    "# Imports\n",
    "\n",
    "# User Interface\n",
    "from ipywidgets import widgets  \n",
    "from __future__ import print_function\n",
    "from IPython.display import display, clear_output\n",
    "from IPython.display import Markdown as md\n",
    "\n",
    "# Data Visual Themes\n",
    "import seaborn as sns\n",
    "sns.set_theme(style=\"white\")\n",
    "sns.color_palette(\"cubehelix\")\n",
    "sns.cubehelix_palette(start=2, as_cmap=True)\n",
    "\n",
    "# Utility Libraries\n",
    "import numpy as np\n",
    "import pandas as pd\n",
    "import matplotlib.pyplot as plt\n",
    "%matplotlib inline\n",
    "\n",
    "# Data Exploration\n",
    "from sklearn.feature_selection import mutual_info_regression\n",
    "from scipy import stats\n",
    "\n",
    "# Model Building\n",
    "from sklearn.model_selection import train_test_split\n",
    "from sklearn.ensemble import RandomForestRegressor\n",
    "\n",
    "# Model Scoring\n",
    "from sklearn.metrics import mean_absolute_error, r2_score\n",
    "\n",
    "# Remove Warnings\n",
    "import warnings\n",
    "warnings.filterwarnings('ignore')"
   ]
  },
  {
   "cell_type": "code",
   "execution_count": 29,
   "id": "e50c0135",
   "metadata": {},
   "outputs": [
    {
     "data": {
      "text/html": [
       "\n",
       "<style>\n",
       "// \n",
       "h1 { color: #dcd4f4; font-family: 'Georgia', sans-serif; font-size: 275px; font-weight: bold; letter-spacing: -1px; line-height: 1; text-align: center; }\n",
       "h2 { color: #467d88; font-family: 'Georgia', sans-serif; font-size: 30px; font-weight: 300; line-height: 32px; margin: 0 0 72px; text-align: center; }\n",
       "h3 { color: #7399b8; font-family: 'Georgia', sans-serif; font-size: 20px; font-weight: 300; line-height: 32px; margin: 0 0 72px; text-align: left; }\n",
       "h4 { color: #467d88; font-family: 'Georgia', sans-serif; font-size: 16px; font-weight: 300; line-height: 32px; margin: 0 0 72px; text-align: left; }\n",
       "p { color: #7399b8; font-family: 'Georgia', sans-serif; font-size: 18px; line-height: 24px; margin: 0 0 24px; text-align: justify; text-justify: inter-word; }\n",
       "row_heading { color: #a7b5dc}\n",
       "</style>\n"
      ],
      "text/plain": [
       "<IPython.core.display.HTML object>"
      ]
     },
     "execution_count": 29,
     "metadata": {},
     "output_type": "execute_result"
    }
   ],
   "source": [
    "# CSS Template\n",
    "\n",
    "from IPython.core.display import HTML\n",
    "HTML(\"\"\"\n",
    "<style>\n",
    "// \n",
    "h1 { color: #dcd4f4; font-family: 'Georgia', sans-serif; font-size: 275px; font-weight: bold; letter-spacing: -1px; line-height: 1; text-align: center; }\n",
    "h2 { color: #467d88; font-family: 'Georgia', sans-serif; font-size: 30px; font-weight: 300; line-height: 32px; margin: 0 0 72px; text-align: center; }\n",
    "h3 { color: #7399b8; font-family: 'Georgia', sans-serif; font-size: 20px; font-weight: 300; line-height: 32px; margin: 0 0 72px; text-align: left; }\n",
    "h4 { color: #467d88; font-family: 'Georgia', sans-serif; font-size: 16px; font-weight: 300; line-height: 32px; margin: 0 0 72px; text-align: left; }\n",
    "p { color: #7399b8; font-family: 'Georgia', sans-serif; font-size: 18px; line-height: 24px; margin: 0 0 24px; text-align: justify; text-justify: inter-word; }\n",
    "row_heading { color: #a7b5dc}\n",
    "</style>\n",
    "\"\"\")"
   ]
  },
  {
   "cell_type": "code",
   "execution_count": 3,
   "id": "1af573dc",
   "metadata": {},
   "outputs": [],
   "source": [
    "# Set Table Styles\n",
    "styles = [dict(selector=\"caption\",\n",
    "                       props=[(\"text-align\", \"center\"),\n",
    "                              (\"font-family\", \"Georgia\"),\n",
    "                              (\"font-size\", \"150%\"),\n",
    "                              (\"color\", '#247c54')])]"
   ]
  },
  {
   "cell_type": "code",
   "execution_count": 33,
   "id": "4159fd3f",
   "metadata": {},
   "outputs": [],
   "source": [
    "# Display Variables in MarkDown\n",
    "def print_values(text, var):\n",
    "    display(md(f'<p span style=\"font-family:Georgia; font-size:22px; text-align:left; color:#a7b5dc\"> {text} {var}</p>'))"
   ]
  },
  {
   "cell_type": "markdown",
   "id": "df82f351",
   "metadata": {},
   "source": [
    "## Importing Datasets"
   ]
  },
  {
   "cell_type": "markdown",
   "id": "51123165",
   "metadata": {},
   "source": [
    "We are importing 3 different datasets from Social Buzz: Content, Reactions and Reaction Types. "
   ]
  },
  {
   "cell_type": "markdown",
   "id": "095c790a",
   "metadata": {},
   "source": [
    "### Example of Content Data"
   ]
  },
  {
   "cell_type": "code",
   "execution_count": 4,
   "id": "e92f205b",
   "metadata": {
    "scrolled": false
   },
   "outputs": [
    {
     "data": {
      "text/html": [
       "<style type=\"text/css\">\n",
       "#T_a7678 caption {\n",
       "  text-align: center;\n",
       "  font-family: Georgia;\n",
       "  font-size: 150%;\n",
       "  color: #247c54;\n",
       "}\n",
       "</style>\n",
       "<table id=\"T_a7678\">\n",
       "  <caption>Content DataFrame</caption>\n",
       "  <thead>\n",
       "    <tr>\n",
       "      <th class=\"blank level0\" >&nbsp;</th>\n",
       "      <th id=\"T_a7678_level0_col0\" class=\"col_heading level0 col0\" >Unnamed: 0</th>\n",
       "      <th id=\"T_a7678_level0_col1\" class=\"col_heading level0 col1\" >Content ID</th>\n",
       "      <th id=\"T_a7678_level0_col2\" class=\"col_heading level0 col2\" >User ID</th>\n",
       "      <th id=\"T_a7678_level0_col3\" class=\"col_heading level0 col3\" >Type</th>\n",
       "      <th id=\"T_a7678_level0_col4\" class=\"col_heading level0 col4\" >Category</th>\n",
       "      <th id=\"T_a7678_level0_col5\" class=\"col_heading level0 col5\" >URL</th>\n",
       "    </tr>\n",
       "  </thead>\n",
       "  <tbody>\n",
       "    <tr>\n",
       "      <th id=\"T_a7678_level0_row0\" class=\"row_heading level0 row0\" >0</th>\n",
       "      <td id=\"T_a7678_row0_col0\" class=\"data row0 col0\" >0</td>\n",
       "      <td id=\"T_a7678_row0_col1\" class=\"data row0 col1\" >97522e57-d9ab-4bd6-97bf-c24d952602d2</td>\n",
       "      <td id=\"T_a7678_row0_col2\" class=\"data row0 col2\" >8d3cd87d-8a31-4935-9a4f-b319bfe05f31</td>\n",
       "      <td id=\"T_a7678_row0_col3\" class=\"data row0 col3\" >photo</td>\n",
       "      <td id=\"T_a7678_row0_col4\" class=\"data row0 col4\" >Studying</td>\n",
       "      <td id=\"T_a7678_row0_col5\" class=\"data row0 col5\" >https://socialbuzz.cdn.com/content/storage/97522e57-d9ab-4bd6-97bf-c24d952602d2</td>\n",
       "    </tr>\n",
       "    <tr>\n",
       "      <th id=\"T_a7678_level0_row1\" class=\"row_heading level0 row1\" >1</th>\n",
       "      <td id=\"T_a7678_row1_col0\" class=\"data row1 col0\" >1</td>\n",
       "      <td id=\"T_a7678_row1_col1\" class=\"data row1 col1\" >9f737e0a-3cdd-4d29-9d24-753f4e3be810</td>\n",
       "      <td id=\"T_a7678_row1_col2\" class=\"data row1 col2\" >beb1f34e-7870-46d6-9fc7-2e12eb83ce43</td>\n",
       "      <td id=\"T_a7678_row1_col3\" class=\"data row1 col3\" >photo</td>\n",
       "      <td id=\"T_a7678_row1_col4\" class=\"data row1 col4\" >healthy eating</td>\n",
       "      <td id=\"T_a7678_row1_col5\" class=\"data row1 col5\" >https://socialbuzz.cdn.com/content/storage/9f737e0a-3cdd-4d29-9d24-753f4e3be810</td>\n",
       "    </tr>\n",
       "    <tr>\n",
       "      <th id=\"T_a7678_level0_row2\" class=\"row_heading level0 row2\" >2</th>\n",
       "      <td id=\"T_a7678_row2_col0\" class=\"data row2 col0\" >2</td>\n",
       "      <td id=\"T_a7678_row2_col1\" class=\"data row2 col1\" >230c4e4d-70c3-461d-b42c-ec09396efb3f</td>\n",
       "      <td id=\"T_a7678_row2_col2\" class=\"data row2 col2\" >a5c65404-5894-4b87-82f2-d787cbee86b4</td>\n",
       "      <td id=\"T_a7678_row2_col3\" class=\"data row2 col3\" >photo</td>\n",
       "      <td id=\"T_a7678_row2_col4\" class=\"data row2 col4\" >healthy eating</td>\n",
       "      <td id=\"T_a7678_row2_col5\" class=\"data row2 col5\" >https://socialbuzz.cdn.com/content/storage/230c4e4d-70c3-461d-b42c-ec09396efb3f</td>\n",
       "    </tr>\n",
       "    <tr>\n",
       "      <th id=\"T_a7678_level0_row3\" class=\"row_heading level0 row3\" >3</th>\n",
       "      <td id=\"T_a7678_row3_col0\" class=\"data row3 col0\" >3</td>\n",
       "      <td id=\"T_a7678_row3_col1\" class=\"data row3 col1\" >356fff80-da4d-4785-9f43-bc1261031dc6</td>\n",
       "      <td id=\"T_a7678_row3_col2\" class=\"data row3 col2\" >9fb4ce88-fac1-406c-8544-1a899cee7aaf</td>\n",
       "      <td id=\"T_a7678_row3_col3\" class=\"data row3 col3\" >photo</td>\n",
       "      <td id=\"T_a7678_row3_col4\" class=\"data row3 col4\" >technology</td>\n",
       "      <td id=\"T_a7678_row3_col5\" class=\"data row3 col5\" >https://socialbuzz.cdn.com/content/storage/356fff80-da4d-4785-9f43-bc1261031dc6</td>\n",
       "    </tr>\n",
       "    <tr>\n",
       "      <th id=\"T_a7678_level0_row4\" class=\"row_heading level0 row4\" >4</th>\n",
       "      <td id=\"T_a7678_row4_col0\" class=\"data row4 col0\" >4</td>\n",
       "      <td id=\"T_a7678_row4_col1\" class=\"data row4 col1\" >01ab84dd-6364-4236-abbb-3f237db77180</td>\n",
       "      <td id=\"T_a7678_row4_col2\" class=\"data row4 col2\" >e206e31b-5f85-4964-b6ea-d7ee5324def1</td>\n",
       "      <td id=\"T_a7678_row4_col3\" class=\"data row4 col3\" >video</td>\n",
       "      <td id=\"T_a7678_row4_col4\" class=\"data row4 col4\" >food</td>\n",
       "      <td id=\"T_a7678_row4_col5\" class=\"data row4 col5\" >https://socialbuzz.cdn.com/content/storage/01ab84dd-6364-4236-abbb-3f237db77180</td>\n",
       "    </tr>\n",
       "  </tbody>\n",
       "</table>\n"
      ],
      "text/plain": [
       "<pandas.io.formats.style.Styler at 0x1a4117cf790>"
      ]
     },
     "metadata": {},
     "output_type": "display_data"
    }
   ],
   "source": [
    "# Import Content Data\n",
    "content = pd.read_csv(\"Static/Data/Content.csv\")\n",
    "content_head = content.head()\n",
    "\n",
    "# Display Content Starting Data\n",
    "content_head = content_head.style.set_caption(\"Content DataFrame\").set_table_styles(styles)\n",
    "display(content_head)"
   ]
  },
  {
   "cell_type": "markdown",
   "id": "3de091b1",
   "metadata": {},
   "source": [
    "### Example of Reactions Data"
   ]
  },
  {
   "cell_type": "code",
   "execution_count": 5,
   "id": "cc6feaa5",
   "metadata": {
    "scrolled": true
   },
   "outputs": [
    {
     "data": {
      "text/html": [
       "<style type=\"text/css\">\n",
       "#T_eeb7e caption {\n",
       "  text-align: center;\n",
       "  font-family: Georgia;\n",
       "  font-size: 150%;\n",
       "  color: #247c54;\n",
       "}\n",
       "</style>\n",
       "<table id=\"T_eeb7e\">\n",
       "  <caption>Reactions DataFrame</caption>\n",
       "  <thead>\n",
       "    <tr>\n",
       "      <th class=\"blank level0\" >&nbsp;</th>\n",
       "      <th id=\"T_eeb7e_level0_col0\" class=\"col_heading level0 col0\" >Unnamed: 0</th>\n",
       "      <th id=\"T_eeb7e_level0_col1\" class=\"col_heading level0 col1\" >Content ID</th>\n",
       "      <th id=\"T_eeb7e_level0_col2\" class=\"col_heading level0 col2\" >User ID</th>\n",
       "      <th id=\"T_eeb7e_level0_col3\" class=\"col_heading level0 col3\" >Type</th>\n",
       "      <th id=\"T_eeb7e_level0_col4\" class=\"col_heading level0 col4\" >Datetime</th>\n",
       "    </tr>\n",
       "  </thead>\n",
       "  <tbody>\n",
       "    <tr>\n",
       "      <th id=\"T_eeb7e_level0_row0\" class=\"row_heading level0 row0\" >0</th>\n",
       "      <td id=\"T_eeb7e_row0_col0\" class=\"data row0 col0\" >0</td>\n",
       "      <td id=\"T_eeb7e_row0_col1\" class=\"data row0 col1\" >97522e57-d9ab-4bd6-97bf-c24d952602d2</td>\n",
       "      <td id=\"T_eeb7e_row0_col2\" class=\"data row0 col2\" >nan</td>\n",
       "      <td id=\"T_eeb7e_row0_col3\" class=\"data row0 col3\" >nan</td>\n",
       "      <td id=\"T_eeb7e_row0_col4\" class=\"data row0 col4\" >2021-04-22 15:17:15</td>\n",
       "    </tr>\n",
       "    <tr>\n",
       "      <th id=\"T_eeb7e_level0_row1\" class=\"row_heading level0 row1\" >1</th>\n",
       "      <td id=\"T_eeb7e_row1_col0\" class=\"data row1 col0\" >1</td>\n",
       "      <td id=\"T_eeb7e_row1_col1\" class=\"data row1 col1\" >97522e57-d9ab-4bd6-97bf-c24d952602d2</td>\n",
       "      <td id=\"T_eeb7e_row1_col2\" class=\"data row1 col2\" >5d454588-283d-459d-915d-c48a2cb4c27f</td>\n",
       "      <td id=\"T_eeb7e_row1_col3\" class=\"data row1 col3\" >disgust</td>\n",
       "      <td id=\"T_eeb7e_row1_col4\" class=\"data row1 col4\" >2020-11-07 09:43:50</td>\n",
       "    </tr>\n",
       "    <tr>\n",
       "      <th id=\"T_eeb7e_level0_row2\" class=\"row_heading level0 row2\" >2</th>\n",
       "      <td id=\"T_eeb7e_row2_col0\" class=\"data row2 col0\" >2</td>\n",
       "      <td id=\"T_eeb7e_row2_col1\" class=\"data row2 col1\" >97522e57-d9ab-4bd6-97bf-c24d952602d2</td>\n",
       "      <td id=\"T_eeb7e_row2_col2\" class=\"data row2 col2\" >92b87fa5-f271-43e0-af66-84fac21052e6</td>\n",
       "      <td id=\"T_eeb7e_row2_col3\" class=\"data row2 col3\" >dislike</td>\n",
       "      <td id=\"T_eeb7e_row2_col4\" class=\"data row2 col4\" >2021-06-17 12:22:51</td>\n",
       "    </tr>\n",
       "    <tr>\n",
       "      <th id=\"T_eeb7e_level0_row3\" class=\"row_heading level0 row3\" >3</th>\n",
       "      <td id=\"T_eeb7e_row3_col0\" class=\"data row3 col0\" >3</td>\n",
       "      <td id=\"T_eeb7e_row3_col1\" class=\"data row3 col1\" >97522e57-d9ab-4bd6-97bf-c24d952602d2</td>\n",
       "      <td id=\"T_eeb7e_row3_col2\" class=\"data row3 col2\" >163daa38-8b77-48c9-9af6-37a6c1447ac2</td>\n",
       "      <td id=\"T_eeb7e_row3_col3\" class=\"data row3 col3\" >scared</td>\n",
       "      <td id=\"T_eeb7e_row3_col4\" class=\"data row3 col4\" >2021-04-18 05:13:58</td>\n",
       "    </tr>\n",
       "    <tr>\n",
       "      <th id=\"T_eeb7e_level0_row4\" class=\"row_heading level0 row4\" >4</th>\n",
       "      <td id=\"T_eeb7e_row4_col0\" class=\"data row4 col0\" >4</td>\n",
       "      <td id=\"T_eeb7e_row4_col1\" class=\"data row4 col1\" >97522e57-d9ab-4bd6-97bf-c24d952602d2</td>\n",
       "      <td id=\"T_eeb7e_row4_col2\" class=\"data row4 col2\" >34e8add9-0206-47fd-a501-037b994650a2</td>\n",
       "      <td id=\"T_eeb7e_row4_col3\" class=\"data row4 col3\" >disgust</td>\n",
       "      <td id=\"T_eeb7e_row4_col4\" class=\"data row4 col4\" >2021-01-06 19:13:01</td>\n",
       "    </tr>\n",
       "  </tbody>\n",
       "</table>\n"
      ],
      "text/plain": [
       "<pandas.io.formats.style.Styler at 0x1a4117c9790>"
      ]
     },
     "metadata": {},
     "output_type": "display_data"
    }
   ],
   "source": [
    "# Import Reactions Data\n",
    "reactions = pd.read_csv(\"Static/Data/Reactions.csv\")\n",
    "reactions_head = reactions.head()\n",
    "\n",
    "# Display Reactions Starting Data\n",
    "reactions_head = reactions_head.style.set_caption(\"Reactions DataFrame\").set_table_styles(styles)\n",
    "display(reactions_head)"
   ]
  },
  {
   "cell_type": "markdown",
   "id": "5169faa0",
   "metadata": {},
   "source": [
    "### Example of Reaction Types Data"
   ]
  },
  {
   "cell_type": "code",
   "execution_count": 6,
   "id": "26131edf",
   "metadata": {},
   "outputs": [
    {
     "data": {
      "text/html": [
       "<style type=\"text/css\">\n",
       "#T_a2ae8 caption {\n",
       "  text-align: center;\n",
       "  font-family: Georgia;\n",
       "  font-size: 150%;\n",
       "  color: #247c54;\n",
       "}\n",
       "</style>\n",
       "<table id=\"T_a2ae8\">\n",
       "  <caption>Reaction Types DataFrame</caption>\n",
       "  <thead>\n",
       "    <tr>\n",
       "      <th class=\"blank level0\" >&nbsp;</th>\n",
       "      <th id=\"T_a2ae8_level0_col0\" class=\"col_heading level0 col0\" >Unnamed: 0</th>\n",
       "      <th id=\"T_a2ae8_level0_col1\" class=\"col_heading level0 col1\" >Type</th>\n",
       "      <th id=\"T_a2ae8_level0_col2\" class=\"col_heading level0 col2\" >Sentiment</th>\n",
       "      <th id=\"T_a2ae8_level0_col3\" class=\"col_heading level0 col3\" >Score</th>\n",
       "    </tr>\n",
       "  </thead>\n",
       "  <tbody>\n",
       "    <tr>\n",
       "      <th id=\"T_a2ae8_level0_row0\" class=\"row_heading level0 row0\" >0</th>\n",
       "      <td id=\"T_a2ae8_row0_col0\" class=\"data row0 col0\" >0</td>\n",
       "      <td id=\"T_a2ae8_row0_col1\" class=\"data row0 col1\" >heart</td>\n",
       "      <td id=\"T_a2ae8_row0_col2\" class=\"data row0 col2\" >positive</td>\n",
       "      <td id=\"T_a2ae8_row0_col3\" class=\"data row0 col3\" >60</td>\n",
       "    </tr>\n",
       "    <tr>\n",
       "      <th id=\"T_a2ae8_level0_row1\" class=\"row_heading level0 row1\" >1</th>\n",
       "      <td id=\"T_a2ae8_row1_col0\" class=\"data row1 col0\" >1</td>\n",
       "      <td id=\"T_a2ae8_row1_col1\" class=\"data row1 col1\" >want</td>\n",
       "      <td id=\"T_a2ae8_row1_col2\" class=\"data row1 col2\" >positive</td>\n",
       "      <td id=\"T_a2ae8_row1_col3\" class=\"data row1 col3\" >70</td>\n",
       "    </tr>\n",
       "    <tr>\n",
       "      <th id=\"T_a2ae8_level0_row2\" class=\"row_heading level0 row2\" >2</th>\n",
       "      <td id=\"T_a2ae8_row2_col0\" class=\"data row2 col0\" >2</td>\n",
       "      <td id=\"T_a2ae8_row2_col1\" class=\"data row2 col1\" >disgust</td>\n",
       "      <td id=\"T_a2ae8_row2_col2\" class=\"data row2 col2\" >negative</td>\n",
       "      <td id=\"T_a2ae8_row2_col3\" class=\"data row2 col3\" >0</td>\n",
       "    </tr>\n",
       "    <tr>\n",
       "      <th id=\"T_a2ae8_level0_row3\" class=\"row_heading level0 row3\" >3</th>\n",
       "      <td id=\"T_a2ae8_row3_col0\" class=\"data row3 col0\" >3</td>\n",
       "      <td id=\"T_a2ae8_row3_col1\" class=\"data row3 col1\" >hate</td>\n",
       "      <td id=\"T_a2ae8_row3_col2\" class=\"data row3 col2\" >negative</td>\n",
       "      <td id=\"T_a2ae8_row3_col3\" class=\"data row3 col3\" >5</td>\n",
       "    </tr>\n",
       "    <tr>\n",
       "      <th id=\"T_a2ae8_level0_row4\" class=\"row_heading level0 row4\" >4</th>\n",
       "      <td id=\"T_a2ae8_row4_col0\" class=\"data row4 col0\" >4</td>\n",
       "      <td id=\"T_a2ae8_row4_col1\" class=\"data row4 col1\" >interested</td>\n",
       "      <td id=\"T_a2ae8_row4_col2\" class=\"data row4 col2\" >positive</td>\n",
       "      <td id=\"T_a2ae8_row4_col3\" class=\"data row4 col3\" >30</td>\n",
       "    </tr>\n",
       "  </tbody>\n",
       "</table>\n"
      ],
      "text/plain": [
       "<pandas.io.formats.style.Styler at 0x1a4173edeb0>"
      ]
     },
     "metadata": {},
     "output_type": "display_data"
    }
   ],
   "source": [
    "# Import Reaction Types Data\n",
    "reaction_types = pd.read_csv(\"Static/Data/ReactionTypes.csv\")\n",
    "reaction_types_head = reaction_types.head()\n",
    "\n",
    "# Display Reaction Types Starting Data\n",
    "reaction_types_head = reaction_types_head.style.set_caption(\"Reaction Types DataFrame\").set_table_styles(styles)\n",
    "display(reaction_types_head)"
   ]
  },
  {
   "cell_type": "code",
   "execution_count": 7,
   "id": "f6415eea",
   "metadata": {},
   "outputs": [],
   "source": [
    "# Get Starting Lengths\n",
    "content_start_length = len(content)\n",
    "reactions_start_length = len(reactions)\n",
    "reaction_types_start_length = len(reaction_types)"
   ]
  },
  {
   "cell_type": "markdown",
   "id": "7d244d77",
   "metadata": {},
   "source": [
    "## Cleaning Datasets"
   ]
  },
  {
   "cell_type": "markdown",
   "id": "d54f5843",
   "metadata": {},
   "source": [
    "Next, we will be cleaning each of the datasets to remove null values, redundant or unecessary features and align feature names."
   ]
  },
  {
   "cell_type": "code",
   "execution_count": 8,
   "id": "eb1446a3",
   "metadata": {},
   "outputs": [],
   "source": [
    "# Remove Irrelevant Features from Content DataFrame\n",
    "content = content.drop([\"URL\", \"Unnamed: 0\"], axis = 1);"
   ]
  },
  {
   "cell_type": "code",
   "execution_count": 9,
   "id": "f556543f",
   "metadata": {},
   "outputs": [],
   "source": [
    "# Remove Irrelevant Features from Reactions DataFrame\n",
    "reactions = reactions.drop([\"User ID\", \"Unnamed: 0\"], axis = 1);"
   ]
  },
  {
   "cell_type": "code",
   "execution_count": 10,
   "id": "476e5527",
   "metadata": {},
   "outputs": [],
   "source": [
    "# Remove Irrelevant Features from Reaction Types DataFrame\n",
    "reaction_types = reaction_types.drop([\"Unnamed: 0\"], axis = 1);"
   ]
  },
  {
   "cell_type": "code",
   "execution_count": 11,
   "id": "d137578d",
   "metadata": {},
   "outputs": [],
   "source": [
    "# Remove Typos/Duplicates\n",
    "content[\"Category\"] = content[\"Category\"].str.replace('\"', '')"
   ]
  },
  {
   "cell_type": "code",
   "execution_count": 12,
   "id": "a752e2ad",
   "metadata": {},
   "outputs": [],
   "source": [
    "# Rename Axis Labels\n",
    "content = content.rename(columns={\"Type\": \"Content Type\"});\n",
    "reactions = reactions.rename(columns={\"Type\": \"Reaction Type\"});\n",
    "reaction_types = reaction_types.rename(columns={\"Type\": \"Reaction Type\"});"
   ]
  },
  {
   "cell_type": "code",
   "execution_count": 36,
   "id": "0821b55d",
   "metadata": {},
   "outputs": [
    {
     "data": {
      "text/markdown": [
       "<p span style=\"font-family:Georgia; font-size:22px; text-align:left; color:#a7b5dc\"> Content DataFrame Empty Rows Dropped:  0</p>"
      ],
      "text/plain": [
       "<IPython.core.display.Markdown object>"
      ]
     },
     "metadata": {},
     "output_type": "display_data"
    },
    {
     "data": {
      "text/markdown": [
       "<p span style=\"font-family:Georgia; font-size:22px; text-align:left; color:#a7b5dc\"> Reactions DataFrame Empty Rows Dropped:  980</p>"
      ],
      "text/plain": [
       "<IPython.core.display.Markdown object>"
      ]
     },
     "metadata": {},
     "output_type": "display_data"
    },
    {
     "data": {
      "text/markdown": [
       "<p span style=\"font-family:Georgia; font-size:22px; text-align:left; color:#a7b5dc\"> Reaction Types DataFrame Empty Rows Dropped:  0</p>"
      ],
      "text/plain": [
       "<IPython.core.display.Markdown object>"
      ]
     },
     "metadata": {},
     "output_type": "display_data"
    }
   ],
   "source": [
    "# Drop NA\n",
    "content = content.dropna()\n",
    "reactions = reactions.dropna()\n",
    "reaction_types = reaction_types.dropna()\n",
    "\n",
    "# Print Dropped:\n",
    "print_values(\"Content DataFrame Empty Rows Dropped: \", content_start_length-len(content))\n",
    "print_values(\"Reactions DataFrame Empty Rows Dropped: \", reactions_start_length-len(reactions))\n",
    "print_values(\"Reaction Types DataFrame Empty Rows Dropped: \", reaction_types_start_length-len(reaction_types))"
   ]
  },
  {
   "cell_type": "markdown",
   "id": "3186f25c",
   "metadata": {},
   "source": [
    "## Combining Datasets"
   ]
  },
  {
   "cell_type": "markdown",
   "id": "20793da2",
   "metadata": {},
   "source": [
    "We'll now combine the datasets based on the content, reactions and their types."
   ]
  },
  {
   "cell_type": "code",
   "execution_count": 39,
   "id": "5624f2c5",
   "metadata": {},
   "outputs": [
    {
     "data": {
      "text/html": [
       "<style type=\"text/css\">\n",
       "#T_2b95a caption {\n",
       "  text-align: center;\n",
       "  font-family: Georgia;\n",
       "  font-size: 150%;\n",
       "  color: #247c54;\n",
       "}\n",
       "</style>\n",
       "<table id=\"T_2b95a\">\n",
       "  <caption>Full Combined DataFrame</caption>\n",
       "  <thead>\n",
       "    <tr>\n",
       "      <th class=\"blank level0\" >&nbsp;</th>\n",
       "      <th id=\"T_2b95a_level0_col0\" class=\"col_heading level0 col0\" >Content ID</th>\n",
       "      <th id=\"T_2b95a_level0_col1\" class=\"col_heading level0 col1\" >User ID</th>\n",
       "      <th id=\"T_2b95a_level0_col2\" class=\"col_heading level0 col2\" >Content Type</th>\n",
       "      <th id=\"T_2b95a_level0_col3\" class=\"col_heading level0 col3\" >Category</th>\n",
       "      <th id=\"T_2b95a_level0_col4\" class=\"col_heading level0 col4\" >Reaction Type</th>\n",
       "      <th id=\"T_2b95a_level0_col5\" class=\"col_heading level0 col5\" >Datetime</th>\n",
       "      <th id=\"T_2b95a_level0_col6\" class=\"col_heading level0 col6\" >Sentiment</th>\n",
       "      <th id=\"T_2b95a_level0_col7\" class=\"col_heading level0 col7\" >Score</th>\n",
       "    </tr>\n",
       "  </thead>\n",
       "  <tbody>\n",
       "    <tr>\n",
       "      <th id=\"T_2b95a_level0_row0\" class=\"row_heading level0 row0\" >0</th>\n",
       "      <td id=\"T_2b95a_row0_col0\" class=\"data row0 col0\" >97522e57-d9ab-4bd6-97bf-c24d952602d2</td>\n",
       "      <td id=\"T_2b95a_row0_col1\" class=\"data row0 col1\" >8d3cd87d-8a31-4935-9a4f-b319bfe05f31</td>\n",
       "      <td id=\"T_2b95a_row0_col2\" class=\"data row0 col2\" >photo</td>\n",
       "      <td id=\"T_2b95a_row0_col3\" class=\"data row0 col3\" >Studying</td>\n",
       "      <td id=\"T_2b95a_row0_col4\" class=\"data row0 col4\" >disgust</td>\n",
       "      <td id=\"T_2b95a_row0_col5\" class=\"data row0 col5\" >2020-11-07 09:43:50</td>\n",
       "      <td id=\"T_2b95a_row0_col6\" class=\"data row0 col6\" >negative</td>\n",
       "      <td id=\"T_2b95a_row0_col7\" class=\"data row0 col7\" >0</td>\n",
       "    </tr>\n",
       "    <tr>\n",
       "      <th id=\"T_2b95a_level0_row1\" class=\"row_heading level0 row1\" >1</th>\n",
       "      <td id=\"T_2b95a_row1_col0\" class=\"data row1 col0\" >97522e57-d9ab-4bd6-97bf-c24d952602d2</td>\n",
       "      <td id=\"T_2b95a_row1_col1\" class=\"data row1 col1\" >8d3cd87d-8a31-4935-9a4f-b319bfe05f31</td>\n",
       "      <td id=\"T_2b95a_row1_col2\" class=\"data row1 col2\" >photo</td>\n",
       "      <td id=\"T_2b95a_row1_col3\" class=\"data row1 col3\" >Studying</td>\n",
       "      <td id=\"T_2b95a_row1_col4\" class=\"data row1 col4\" >disgust</td>\n",
       "      <td id=\"T_2b95a_row1_col5\" class=\"data row1 col5\" >2021-01-06 19:13:01</td>\n",
       "      <td id=\"T_2b95a_row1_col6\" class=\"data row1 col6\" >negative</td>\n",
       "      <td id=\"T_2b95a_row1_col7\" class=\"data row1 col7\" >0</td>\n",
       "    </tr>\n",
       "    <tr>\n",
       "      <th id=\"T_2b95a_level0_row2\" class=\"row_heading level0 row2\" >2</th>\n",
       "      <td id=\"T_2b95a_row2_col0\" class=\"data row2 col0\" >97522e57-d9ab-4bd6-97bf-c24d952602d2</td>\n",
       "      <td id=\"T_2b95a_row2_col1\" class=\"data row2 col1\" >8d3cd87d-8a31-4935-9a4f-b319bfe05f31</td>\n",
       "      <td id=\"T_2b95a_row2_col2\" class=\"data row2 col2\" >photo</td>\n",
       "      <td id=\"T_2b95a_row2_col3\" class=\"data row2 col3\" >Studying</td>\n",
       "      <td id=\"T_2b95a_row2_col4\" class=\"data row2 col4\" >disgust</td>\n",
       "      <td id=\"T_2b95a_row2_col5\" class=\"data row2 col5\" >2021-04-09 02:46:20</td>\n",
       "      <td id=\"T_2b95a_row2_col6\" class=\"data row2 col6\" >negative</td>\n",
       "      <td id=\"T_2b95a_row2_col7\" class=\"data row2 col7\" >0</td>\n",
       "    </tr>\n",
       "    <tr>\n",
       "      <th id=\"T_2b95a_level0_row3\" class=\"row_heading level0 row3\" >3</th>\n",
       "      <td id=\"T_2b95a_row3_col0\" class=\"data row3 col0\" >9f737e0a-3cdd-4d29-9d24-753f4e3be810</td>\n",
       "      <td id=\"T_2b95a_row3_col1\" class=\"data row3 col1\" >beb1f34e-7870-46d6-9fc7-2e12eb83ce43</td>\n",
       "      <td id=\"T_2b95a_row3_col2\" class=\"data row3 col2\" >photo</td>\n",
       "      <td id=\"T_2b95a_row3_col3\" class=\"data row3 col3\" >healthy eating</td>\n",
       "      <td id=\"T_2b95a_row3_col4\" class=\"data row3 col4\" >disgust</td>\n",
       "      <td id=\"T_2b95a_row3_col5\" class=\"data row3 col5\" >2021-03-28 21:15:26</td>\n",
       "      <td id=\"T_2b95a_row3_col6\" class=\"data row3 col6\" >negative</td>\n",
       "      <td id=\"T_2b95a_row3_col7\" class=\"data row3 col7\" >0</td>\n",
       "    </tr>\n",
       "    <tr>\n",
       "      <th id=\"T_2b95a_level0_row4\" class=\"row_heading level0 row4\" >4</th>\n",
       "      <td id=\"T_2b95a_row4_col0\" class=\"data row4 col0\" >230c4e4d-70c3-461d-b42c-ec09396efb3f</td>\n",
       "      <td id=\"T_2b95a_row4_col1\" class=\"data row4 col1\" >a5c65404-5894-4b87-82f2-d787cbee86b4</td>\n",
       "      <td id=\"T_2b95a_row4_col2\" class=\"data row4 col2\" >photo</td>\n",
       "      <td id=\"T_2b95a_row4_col3\" class=\"data row4 col3\" >healthy eating</td>\n",
       "      <td id=\"T_2b95a_row4_col4\" class=\"data row4 col4\" >disgust</td>\n",
       "      <td id=\"T_2b95a_row4_col5\" class=\"data row4 col5\" >2020-08-04 05:40:33</td>\n",
       "      <td id=\"T_2b95a_row4_col6\" class=\"data row4 col6\" >negative</td>\n",
       "      <td id=\"T_2b95a_row4_col7\" class=\"data row4 col7\" >0</td>\n",
       "    </tr>\n",
       "    <tr>\n",
       "      <th id=\"T_2b95a_level0_row5\" class=\"row_heading level0 row5\" >5</th>\n",
       "      <td id=\"T_2b95a_row5_col0\" class=\"data row5 col0\" >3f8590c7-6ab2-4973-805a-90cdec355f05</td>\n",
       "      <td id=\"T_2b95a_row5_col1\" class=\"data row5 col1\" >ae600af5-c1f0-4b1f-adb0-1b4c246373e4</td>\n",
       "      <td id=\"T_2b95a_row5_col2\" class=\"data row5 col2\" >video</td>\n",
       "      <td id=\"T_2b95a_row5_col3\" class=\"data row5 col3\" >dogs</td>\n",
       "      <td id=\"T_2b95a_row5_col4\" class=\"data row5 col4\" >disgust</td>\n",
       "      <td id=\"T_2b95a_row5_col5\" class=\"data row5 col5\" >2021-01-14 07:21:32</td>\n",
       "      <td id=\"T_2b95a_row5_col6\" class=\"data row5 col6\" >negative</td>\n",
       "      <td id=\"T_2b95a_row5_col7\" class=\"data row5 col7\" >0</td>\n",
       "    </tr>\n",
       "    <tr>\n",
       "      <th id=\"T_2b95a_level0_row6\" class=\"row_heading level0 row6\" >6</th>\n",
       "      <td id=\"T_2b95a_row6_col0\" class=\"data row6 col0\" >3f8590c7-6ab2-4973-805a-90cdec355f05</td>\n",
       "      <td id=\"T_2b95a_row6_col1\" class=\"data row6 col1\" >ae600af5-c1f0-4b1f-adb0-1b4c246373e4</td>\n",
       "      <td id=\"T_2b95a_row6_col2\" class=\"data row6 col2\" >video</td>\n",
       "      <td id=\"T_2b95a_row6_col3\" class=\"data row6 col3\" >dogs</td>\n",
       "      <td id=\"T_2b95a_row6_col4\" class=\"data row6 col4\" >disgust</td>\n",
       "      <td id=\"T_2b95a_row6_col5\" class=\"data row6 col5\" >2021-01-13 23:35:56</td>\n",
       "      <td id=\"T_2b95a_row6_col6\" class=\"data row6 col6\" >negative</td>\n",
       "      <td id=\"T_2b95a_row6_col7\" class=\"data row6 col7\" >0</td>\n",
       "    </tr>\n",
       "    <tr>\n",
       "      <th id=\"T_2b95a_level0_row7\" class=\"row_heading level0 row7\" >7</th>\n",
       "      <td id=\"T_2b95a_row7_col0\" class=\"data row7 col0\" >3f8590c7-6ab2-4973-805a-90cdec355f05</td>\n",
       "      <td id=\"T_2b95a_row7_col1\" class=\"data row7 col1\" >ae600af5-c1f0-4b1f-adb0-1b4c246373e4</td>\n",
       "      <td id=\"T_2b95a_row7_col2\" class=\"data row7 col2\" >video</td>\n",
       "      <td id=\"T_2b95a_row7_col3\" class=\"data row7 col3\" >dogs</td>\n",
       "      <td id=\"T_2b95a_row7_col4\" class=\"data row7 col4\" >disgust</td>\n",
       "      <td id=\"T_2b95a_row7_col5\" class=\"data row7 col5\" >2021-02-11 20:10:20</td>\n",
       "      <td id=\"T_2b95a_row7_col6\" class=\"data row7 col6\" >negative</td>\n",
       "      <td id=\"T_2b95a_row7_col7\" class=\"data row7 col7\" >0</td>\n",
       "    </tr>\n",
       "    <tr>\n",
       "      <th id=\"T_2b95a_level0_row8\" class=\"row_heading level0 row8\" >8</th>\n",
       "      <td id=\"T_2b95a_row8_col0\" class=\"data row8 col0\" >b18cb63f-4c8e-44ee-a47f-541e95191d11</td>\n",
       "      <td id=\"T_2b95a_row8_col1\" class=\"data row8 col1\" >13f0db8a-152a-496f-a6e8-1ed6a90b8788</td>\n",
       "      <td id=\"T_2b95a_row8_col2\" class=\"data row8 col2\" >photo</td>\n",
       "      <td id=\"T_2b95a_row8_col3\" class=\"data row8 col3\" >public speaking</td>\n",
       "      <td id=\"T_2b95a_row8_col4\" class=\"data row8 col4\" >disgust</td>\n",
       "      <td id=\"T_2b95a_row8_col5\" class=\"data row8 col5\" >2021-05-27 01:44:22</td>\n",
       "      <td id=\"T_2b95a_row8_col6\" class=\"data row8 col6\" >negative</td>\n",
       "      <td id=\"T_2b95a_row8_col7\" class=\"data row8 col7\" >0</td>\n",
       "    </tr>\n",
       "    <tr>\n",
       "      <th id=\"T_2b95a_level0_row9\" class=\"row_heading level0 row9\" >9</th>\n",
       "      <td id=\"T_2b95a_row9_col0\" class=\"data row9 col0\" >b18cb63f-4c8e-44ee-a47f-541e95191d11</td>\n",
       "      <td id=\"T_2b95a_row9_col1\" class=\"data row9 col1\" >13f0db8a-152a-496f-a6e8-1ed6a90b8788</td>\n",
       "      <td id=\"T_2b95a_row9_col2\" class=\"data row9 col2\" >photo</td>\n",
       "      <td id=\"T_2b95a_row9_col3\" class=\"data row9 col3\" >public speaking</td>\n",
       "      <td id=\"T_2b95a_row9_col4\" class=\"data row9 col4\" >disgust</td>\n",
       "      <td id=\"T_2b95a_row9_col5\" class=\"data row9 col5\" >2021-02-13 04:14:45</td>\n",
       "      <td id=\"T_2b95a_row9_col6\" class=\"data row9 col6\" >negative</td>\n",
       "      <td id=\"T_2b95a_row9_col7\" class=\"data row9 col7\" >0</td>\n",
       "    </tr>\n",
       "  </tbody>\n",
       "</table>\n"
      ],
      "text/plain": [
       "<pandas.io.formats.style.Styler at 0x1a412bd8e80>"
      ]
     },
     "metadata": {},
     "output_type": "display_data"
    }
   ],
   "source": [
    "# Merge Content & Reactions\n",
    "content_reactions_df = content.merge(reactions, on='Content ID')\n",
    "\n",
    "# Merge Content, Reactions & Reaction Types\n",
    "full_df = content_reactions_df.merge(reaction_types, on='Reaction Type')\n",
    "\n",
    "# Display Reaction Types Starting Data\n",
    "full_df_head = full_df.head(10)\n",
    "full_df_head = full_df_head.style.set_caption(\"Full Combined DataFrame\").set_table_styles(styles)\n",
    "display(full_df_head)"
   ]
  },
  {
   "cell_type": "markdown",
   "id": "a0caa61d",
   "metadata": {},
   "source": [
    "## Calculating Scores"
   ]
  },
  {
   "cell_type": "markdown",
   "id": "78e424cf",
   "metadata": {},
   "source": [
    "By taking the sum of each category's score, we can find the top performing categories."
   ]
  },
  {
   "cell_type": "code",
   "execution_count": 52,
   "id": "eb6ab230",
   "metadata": {},
   "outputs": [
    {
     "data": {
      "text/html": [
       "<div>\n",
       "<style scoped>\n",
       "    .dataframe tbody tr th:only-of-type {\n",
       "        vertical-align: middle;\n",
       "    }\n",
       "\n",
       "    .dataframe tbody tr th {\n",
       "        vertical-align: top;\n",
       "    }\n",
       "\n",
       "    .dataframe thead th {\n",
       "        text-align: right;\n",
       "    }\n",
       "</style>\n",
       "<table border=\"1\" class=\"dataframe\">\n",
       "  <thead>\n",
       "    <tr style=\"text-align: right;\">\n",
       "      <th></th>\n",
       "      <th>Score</th>\n",
       "    </tr>\n",
       "    <tr>\n",
       "      <th>Category</th>\n",
       "      <th></th>\n",
       "    </tr>\n",
       "  </thead>\n",
       "  <tbody>\n",
       "    <tr>\n",
       "      <th>animals</th>\n",
       "      <td>71242</td>\n",
       "    </tr>\n",
       "    <tr>\n",
       "      <th>healthy eating</th>\n",
       "      <td>69067</td>\n",
       "    </tr>\n",
       "    <tr>\n",
       "      <th>technology</th>\n",
       "      <td>68521</td>\n",
       "    </tr>\n",
       "    <tr>\n",
       "      <th>science</th>\n",
       "      <td>66549</td>\n",
       "    </tr>\n",
       "    <tr>\n",
       "      <th>culture</th>\n",
       "      <td>64952</td>\n",
       "    </tr>\n",
       "    <tr>\n",
       "      <th>cooking</th>\n",
       "      <td>64756</td>\n",
       "    </tr>\n",
       "    <tr>\n",
       "      <th>travel</th>\n",
       "      <td>63788</td>\n",
       "    </tr>\n",
       "    <tr>\n",
       "      <th>food</th>\n",
       "      <td>63172</td>\n",
       "    </tr>\n",
       "    <tr>\n",
       "      <th>education</th>\n",
       "      <td>56041</td>\n",
       "    </tr>\n",
       "    <tr>\n",
       "      <th>soccer</th>\n",
       "      <td>55152</td>\n",
       "    </tr>\n",
       "    <tr>\n",
       "      <th>studying</th>\n",
       "      <td>52928</td>\n",
       "    </tr>\n",
       "    <tr>\n",
       "      <th>dogs</th>\n",
       "      <td>52511</td>\n",
       "    </tr>\n",
       "    <tr>\n",
       "      <th>tennis</th>\n",
       "      <td>50339</td>\n",
       "    </tr>\n",
       "    <tr>\n",
       "      <th>fitness</th>\n",
       "      <td>49835</td>\n",
       "    </tr>\n",
       "    <tr>\n",
       "      <th>veganism</th>\n",
       "      <td>48975</td>\n",
       "    </tr>\n",
       "    <tr>\n",
       "      <th>public speaking</th>\n",
       "      <td>47928</td>\n",
       "    </tr>\n",
       "    <tr>\n",
       "      <th>Fitness</th>\n",
       "      <td>5488</td>\n",
       "    </tr>\n",
       "    <tr>\n",
       "      <th>Science</th>\n",
       "      <td>4619</td>\n",
       "    </tr>\n",
       "    <tr>\n",
       "      <th>Animals</th>\n",
       "      <td>3723</td>\n",
       "    </tr>\n",
       "    <tr>\n",
       "      <th>Food</th>\n",
       "      <td>3504</td>\n",
       "    </tr>\n",
       "    <tr>\n",
       "      <th>Soccer</th>\n",
       "      <td>2631</td>\n",
       "    </tr>\n",
       "    <tr>\n",
       "      <th>Culture</th>\n",
       "      <td>1627</td>\n",
       "    </tr>\n",
       "    <tr>\n",
       "      <th>Education</th>\n",
       "      <td>1395</td>\n",
       "    </tr>\n",
       "    <tr>\n",
       "      <th>Studying</th>\n",
       "      <td>1341</td>\n",
       "    </tr>\n",
       "    <tr>\n",
       "      <th>Public Speaking</th>\n",
       "      <td>1336</td>\n",
       "    </tr>\n",
       "    <tr>\n",
       "      <th>Travel</th>\n",
       "      <td>1092</td>\n",
       "    </tr>\n",
       "    <tr>\n",
       "      <th>Veganism</th>\n",
       "      <td>644</td>\n",
       "    </tr>\n",
       "    <tr>\n",
       "      <th>Healthy Eating</th>\n",
       "      <td>272</td>\n",
       "    </tr>\n",
       "    <tr>\n",
       "      <th>Technology</th>\n",
       "      <td>217</td>\n",
       "    </tr>\n",
       "  </tbody>\n",
       "</table>\n",
       "</div>"
      ],
      "text/plain": [
       "                 Score\n",
       "Category              \n",
       "animals          71242\n",
       "healthy eating   69067\n",
       "technology       68521\n",
       "science          66549\n",
       "culture          64952\n",
       "cooking          64756\n",
       "travel           63788\n",
       "food             63172\n",
       "education        56041\n",
       "soccer           55152\n",
       "studying         52928\n",
       "dogs             52511\n",
       "tennis           50339\n",
       "fitness          49835\n",
       "veganism         48975\n",
       "public speaking  47928\n",
       "Fitness           5488\n",
       "Science           4619\n",
       "Animals           3723\n",
       "Food              3504\n",
       "Soccer            2631\n",
       "Culture           1627\n",
       "Education         1395\n",
       "Studying          1341\n",
       "Public Speaking   1336\n",
       "Travel            1092\n",
       "Veganism           644\n",
       "Healthy Eating     272\n",
       "Technology         217"
      ]
     },
     "metadata": {},
     "output_type": "display_data"
    }
   ],
   "source": [
    "# Get Category Scores\n",
    "category_scores = full_df.groupby('Category').sum()\n",
    "category_scores = pd.DataFrame(category_scores)\n",
    "\n",
    "# Sort & Display Category Scores\n",
    "category_scores = category_scores.sort_values('Score', ascending = False)\n",
    "display(category_scores)"
   ]
  },
  {
   "cell_type": "code",
   "execution_count": 21,
   "id": "3efafd81",
   "metadata": {
    "scrolled": false
   },
   "outputs": [
    {
     "data": {
      "image/png": "[encoded data removed]",
      "text/plain": [
       "<Figure size 720x576 with 1 Axes>"
      ]
     },
     "metadata": {
      "needs_background": "light"
     },
     "output_type": "display_data"
    }
   ],
   "source": [
    "# Display Bar Graph\n",
    "category_scores.plot.bar(figsize=(10,8));"
   ]
  },
  {
   "cell_type": "markdown",
   "id": "8697281d",
   "metadata": {},
   "source": [
    "## Top Performing Categories:"
   ]
  },
  {
   "cell_type": "code",
   "execution_count": 53,
   "id": "68d0e5c6",
   "metadata": {},
   "outputs": [
    {
     "data": {
      "text/html": [
       "<div>\n",
       "<style scoped>\n",
       "    .dataframe tbody tr th:only-of-type {\n",
       "        vertical-align: middle;\n",
       "    }\n",
       "\n",
       "    .dataframe tbody tr th {\n",
       "        vertical-align: top;\n",
       "    }\n",
       "\n",
       "    .dataframe thead th {\n",
       "        text-align: right;\n",
       "    }\n",
       "</style>\n",
       "<table border=\"1\" class=\"dataframe\">\n",
       "  <thead>\n",
       "    <tr style=\"text-align: right;\">\n",
       "      <th></th>\n",
       "      <th>Score</th>\n",
       "    </tr>\n",
       "    <tr>\n",
       "      <th>Category</th>\n",
       "      <th></th>\n",
       "    </tr>\n",
       "  </thead>\n",
       "  <tbody>\n",
       "    <tr>\n",
       "      <th>animals</th>\n",
       "      <td>71242</td>\n",
       "    </tr>\n",
       "    <tr>\n",
       "      <th>healthy eating</th>\n",
       "      <td>69067</td>\n",
       "    </tr>\n",
       "    <tr>\n",
       "      <th>technology</th>\n",
       "      <td>68521</td>\n",
       "    </tr>\n",
       "    <tr>\n",
       "      <th>science</th>\n",
       "      <td>66549</td>\n",
       "    </tr>\n",
       "    <tr>\n",
       "      <th>culture</th>\n",
       "      <td>64952</td>\n",
       "    </tr>\n",
       "  </tbody>\n",
       "</table>\n",
       "</div>"
      ],
      "text/plain": [
       "                Score\n",
       "Category             \n",
       "animals         71242\n",
       "healthy eating  69067\n",
       "technology      68521\n",
       "science         66549\n",
       "culture         64952"
      ]
     },
     "execution_count": 53,
     "metadata": {},
     "output_type": "execute_result"
    }
   ],
   "source": [
    "# Display Top 5 Category Scores\n",
    "category_scores.head(5)"
   ]
  },
  {
   "cell_type": "code",
   "execution_count": 54,
   "id": "b83f2f0e",
   "metadata": {},
   "outputs": [
    {
     "data": {
      "image/png": "[encoded data removed]",
      "text/plain": [
       "<Figure size 576x576 with 1 Axes>"
      ]
     },
     "metadata": {},
     "output_type": "display_data"
    }
   ],
   "source": [
    "# Display Top 5 Category Scores as Pie Graph\n",
    "top_five_categ = category_scores.head(5)\n",
    "top_five_categ.plot.pie(y=\"Score\", figsize = (8,8));"
   ]
  },
  {
   "cell_type": "code",
   "execution_count": null,
   "id": "18c4324b",
   "metadata": {},
   "outputs": [],
   "source": []
  }
 ],
 "metadata": {
  "kernelspec": {
   "display_name": "Python 3 (ipykernel)",
   "language": "python",
   "name": "python3"
  },
  "language_info": {
   "codemirror_mode": {
    "name": "ipython",
    "version": 3
   },
   "file_extension": ".py",
   "mimetype": "text/x-python",
   "name": "python",
   "nbconvert_exporter": "python",
   "pygments_lexer": "ipython3",
   "version": "3.9.12"
  }
 },
 "nbformat": 4,
 "nbformat_minor": 5
}
